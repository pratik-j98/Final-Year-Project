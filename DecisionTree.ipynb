{
  "nbformat": 4,
  "nbformat_minor": 0,
  "metadata": {
    "colab": {
      "name": "DecisionTree.ipynb",
      "version": "0.3.2",
      "provenance": [],
      "collapsed_sections": [],
      "include_colab_link": true
    },
    "kernelspec": {
      "name": "python3",
      "display_name": "Python 3"
    }
  },
  "cells": [
    {
      "cell_type": "markdown",
      "metadata": {
        "id": "view-in-github",
        "colab_type": "text"
      },
      "source": [
        "<a href=\"https://colab.research.google.com/github/pratik-j98/Final-Year-Project/blob/master/DecisionTree.ipynb\" target=\"_parent\"><img src=\"https://colab.research.google.com/assets/colab-badge.svg\" alt=\"Open In Colab\"/></a>"
      ]
    },
    {
      "metadata": {
        "id": "UF8ZNQELuhWq",
        "colab_type": "text"
      },
      "cell_type": "markdown",
      "source": [
        "1.Importing libraries and packages\n",
        "\n",
        "Pandas is one of the python libraries which is used for manipulating dataframes and colums. we will be using pandas to read the dataset which is in ths csv format and store it in one variable.\n"
      ]
    },
    {
      "metadata": {
        "id": "nj_YWq_l3-ga",
        "colab_type": "code",
        "colab": {}
      },
      "cell_type": "code",
      "source": [
        "import pandas as pd\n",
        "import math"
      ],
      "execution_count": 0,
      "outputs": []
    },
    {
      "metadata": {
        "id": "3K8rCGg4uoQ3",
        "colab_type": "text"
      },
      "cell_type": "markdown",
      "source": [
        "2.Loading the dataset\n",
        "\n",
        "Using pandas we load the training and the testing dataset.\n"
      ]
    },
    {
      "metadata": {
        "id": "V6Ih0-Vw4N1W",
        "colab_type": "code",
        "colab": {}
      },
      "cell_type": "code",
      "source": [
        "dataset_pathtrain='https://raw.githubusercontent.com/Tina118/flower-prediction/master/soildatasettrain.csv'\n",
        "training=pd.read_csv(dataset_pathtrain)"
      ],
      "execution_count": 0,
      "outputs": []
    },
    {
      "metadata": {
        "id": "VT77vmf6CkAJ",
        "colab_type": "code",
        "outputId": "ce55f80e-1bd4-4841-ef0b-33461daee82e",
        "colab": {
          "base_uri": "https://localhost:8080/",
          "height": 34
        }
      },
      "cell_type": "code",
      "source": [
        "target=training.keys()[-1]\n",
        "print(target)"
      ],
      "execution_count": 0,
      "outputs": [
        {
          "output_type": "stream",
          "text": [
            "Flowers\n"
          ],
          "name": "stdout"
        }
      ]
    },
    {
      "metadata": {
        "id": "H7mlNZWwu5xZ",
        "colab_type": "text"
      },
      "cell_type": "markdown",
      "source": [
        "3.Model Fitting \n",
        "\n",
        "We are going to use decision tree for training our model.\n",
        "Here we have wrote code by converting all values in string \n"
      ]
    },
    {
      "metadata": {
        "id": "i-IvwK0J4cpj",
        "colab_type": "code",
        "colab": {}
      },
      "cell_type": "code",
      "source": [
        "train=pd.DataFrame()\n",
        "for i in training:\n",
        "  if all(isinstance(x,int) for x in training[i]) or all(isinstance(x,float) for x in training[i]):\n",
        "      sum1=0\n",
        "      for z in range(len(training[i])):\n",
        "          a=(training[i][z])\n",
        "          sum1=sum1+a\n",
        "      partition=int((sum1/len(training[i])))\n",
        "      l=[]\n",
        "      for j in range(len(training[i])):\n",
        "        if(training[i][j]<=partition):\n",
        "          l.append(\"<\"+str(partition))\n",
        "        else:\n",
        "          l.append(\">\"+str(partition))\n",
        "      train[i]=l\n",
        "  else:\n",
        "      l=[]\n",
        "      for z in range(len(training[i])):\n",
        "        l.append(training[i][z])\n",
        "      train[i]=l\n",
        "\n",
        "\n",
        "\n"
      ],
      "execution_count": 0,
      "outputs": []
    },
    {
      "metadata": {
        "id": "0ilxEL9mRAG_",
        "colab_type": "code",
        "outputId": "07a8a4cc-b107-4a7c-aa67-5cf4cb67730f",
        "colab": {
          "base_uri": "https://localhost:8080/",
          "height": 72
        }
      },
      "cell_type": "code",
      "source": [
        "testing=train.sample(n=100)\n",
        "x_test=testing.copy()\n",
        "x_test.drop([target],axis=1,inplace=True)\n",
        "y_test=list(testing[target])\n",
        "a=list(testing.index)\n",
        "a.sort()\n",
        "print(a)\n",
        "#b=list(train.index)\n",
        "#print(len(a),len(b))\n",
        "train.drop(train.index[a],inplace=True)\n",
        "b=list(train.index)\n",
        "print(b)\n",
        "train=train.reset_index(drop=True)\n",
        "#print(train)\n",
        "  "
      ],
      "execution_count": 0,
      "outputs": [
        {
          "output_type": "stream",
          "text": [
            "[18, 38, 43, 50, 71, 79, 127, 140, 144, 157, 163, 200, 217, 247, 265, 275, 296, 313, 315, 341, 364, 370, 420, 463, 464, 472, 484, 515, 526, 558, 561, 586, 642, 688, 689, 692, 694, 775, 817, 821, 822, 828, 841, 865, 910, 917, 926, 929, 958, 967, 1019, 1037, 1057, 1089, 1097, 1098, 1123, 1139, 1143, 1150, 1152, 1161, 1168, 1187, 1205, 1252, 1259, 1317, 1364, 1366, 1371, 1376, 1464, 1487, 1500, 1532, 1554, 1559, 1576, 1629, 1640, 1647, 1656, 1710, 1725, 1740, 1745, 1747, 1771, 1772, 1774, 1814, 1819, 1822, 1842, 1877, 1883, 1939, 1973, 1980]\n",
            "[0, 1, 2, 3, 4, 5, 6, 7, 8, 9, 10, 11, 12, 13, 14, 15, 16, 17, 19, 20, 21, 22, 23, 24, 25, 26, 27, 28, 29, 30, 31, 32, 33, 34, 35, 36, 37, 39, 40, 41, 42, 44, 45, 46, 47, 48, 49, 51, 52, 53, 54, 55, 56, 57, 58, 59, 60, 61, 62, 63, 64, 65, 66, 67, 68, 69, 70, 72, 73, 74, 75, 76, 77, 78, 80, 81, 82, 83, 84, 85, 86, 87, 88, 89, 90, 91, 92, 93, 94, 95, 96, 97, 98, 99, 100, 101, 102, 103, 104, 105, 106, 107, 108, 109, 110, 111, 112, 113, 114, 115, 116, 117, 118, 119, 120, 121, 122, 123, 124, 125, 126, 128, 129, 130, 131, 132, 133, 134, 135, 136, 137, 138, 139, 141, 142, 143, 145, 146, 147, 148, 149, 150, 151, 152, 153, 154, 155, 156, 158, 159, 160, 161, 162, 164, 165, 166, 167, 168, 169, 170, 171, 172, 173, 174, 175, 176, 177, 178, 179, 180, 181, 182, 183, 184, 185, 186, 187, 188, 189, 190, 191, 192, 193, 194, 195, 196, 197, 198, 199, 201, 202, 203, 204, 205, 206, 207, 208, 209, 210, 211, 212, 213, 214, 215, 216, 218, 219, 220, 221, 222, 223, 224, 225, 226, 227, 228, 229, 230, 231, 232, 233, 234, 235, 236, 237, 238, 239, 240, 241, 242, 243, 244, 245, 246, 248, 249, 250, 251, 252, 253, 254, 255, 256, 257, 258, 259, 260, 261, 262, 263, 264, 266, 267, 268, 269, 270, 271, 272, 273, 274, 276, 277, 278, 279, 280, 281, 282, 283, 284, 285, 286, 287, 288, 289, 290, 291, 292, 293, 294, 295, 297, 298, 299, 300, 301, 302, 303, 304, 305, 306, 307, 308, 309, 310, 311, 312, 314, 316, 317, 318, 319, 320, 321, 322, 323, 324, 325, 326, 327, 328, 329, 330, 331, 332, 333, 334, 335, 336, 337, 338, 339, 340, 342, 343, 344, 345, 346, 347, 348, 349, 350, 351, 352, 353, 354, 355, 356, 357, 358, 359, 360, 361, 362, 363, 365, 366, 367, 368, 369, 371, 372, 373, 374, 375, 376, 377, 378, 379, 380, 381, 382, 383, 384, 385, 386, 387, 388, 389, 390, 391, 392, 393, 394, 395, 396, 397, 398, 399, 400, 401, 402, 403, 404, 405, 406, 407, 408, 409, 410, 411, 412, 413, 414, 415, 416, 417, 418, 419, 421, 422, 423, 424, 425, 426, 427, 428, 429, 430, 431, 432, 433, 434, 435, 436, 437, 438, 439, 440, 441, 442, 443, 444, 445, 446, 447, 448, 449, 450, 451, 452, 453, 454, 455, 456, 457, 458, 459, 460, 461, 462, 465, 466, 467, 468, 469, 470, 471, 473, 474, 475, 476, 477, 478, 479, 480, 481, 482, 483, 485, 486, 487, 488, 489, 490, 491, 492, 493, 494, 495, 496, 497, 498, 499, 500, 501, 502, 503, 504, 505, 506, 507, 508, 509, 510, 511, 512, 513, 514, 516, 517, 518, 519, 520, 521, 522, 523, 524, 525, 527, 528, 529, 530, 531, 532, 533, 534, 535, 536, 537, 538, 539, 540, 541, 542, 543, 544, 545, 546, 547, 548, 549, 550, 551, 552, 553, 554, 555, 556, 557, 559, 560, 562, 563, 564, 565, 566, 567, 568, 569, 570, 571, 572, 573, 574, 575, 576, 577, 578, 579, 580, 581, 582, 583, 584, 585, 587, 588, 589, 590, 591, 592, 593, 594, 595, 596, 597, 598, 599, 600, 601, 602, 603, 604, 605, 606, 607, 608, 609, 610, 611, 612, 613, 614, 615, 616, 617, 618, 619, 620, 621, 622, 623, 624, 625, 626, 627, 628, 629, 630, 631, 632, 633, 634, 635, 636, 637, 638, 639, 640, 641, 643, 644, 645, 646, 647, 648, 649, 650, 651, 652, 653, 654, 655, 656, 657, 658, 659, 660, 661, 662, 663, 664, 665, 666, 667, 668, 669, 670, 671, 672, 673, 674, 675, 676, 677, 678, 679, 680, 681, 682, 683, 684, 685, 686, 687, 690, 691, 693, 695, 696, 697, 698, 699, 700, 701, 702, 703, 704, 705, 706, 707, 708, 709, 710, 711, 712, 713, 714, 715, 716, 717, 718, 719, 720, 721, 722, 723, 724, 725, 726, 727, 728, 729, 730, 731, 732, 733, 734, 735, 736, 737, 738, 739, 740, 741, 742, 743, 744, 745, 746, 747, 748, 749, 750, 751, 752, 753, 754, 755, 756, 757, 758, 759, 760, 761, 762, 763, 764, 765, 766, 767, 768, 769, 770, 771, 772, 773, 774, 776, 777, 778, 779, 780, 781, 782, 783, 784, 785, 786, 787, 788, 789, 790, 791, 792, 793, 794, 795, 796, 797, 798, 799, 800, 801, 802, 803, 804, 805, 806, 807, 808, 809, 810, 811, 812, 813, 814, 815, 816, 818, 819, 820, 823, 824, 825, 826, 827, 829, 830, 831, 832, 833, 834, 835, 836, 837, 838, 839, 840, 842, 843, 844, 845, 846, 847, 848, 849, 850, 851, 852, 853, 854, 855, 856, 857, 858, 859, 860, 861, 862, 863, 864, 866, 867, 868, 869, 870, 871, 872, 873, 874, 875, 876, 877, 878, 879, 880, 881, 882, 883, 884, 885, 886, 887, 888, 889, 890, 891, 892, 893, 894, 895, 896, 897, 898, 899, 900, 901, 902, 903, 904, 905, 906, 907, 908, 909, 911, 912, 913, 914, 915, 916, 918, 919, 920, 921, 922, 923, 924, 925, 927, 928, 930, 931, 932, 933, 934, 935, 936, 937, 938, 939, 940, 941, 942, 943, 944, 945, 946, 947, 948, 949, 950, 951, 952, 953, 954, 955, 956, 957, 959, 960, 961, 962, 963, 964, 965, 966, 968, 969, 970, 971, 972, 973, 974, 975, 976, 977, 978, 979, 980, 981, 982, 983, 984, 985, 986, 987, 988, 989, 990, 991, 992, 993, 994, 995, 996, 997, 998, 999, 1000, 1001, 1002, 1003, 1004, 1005, 1006, 1007, 1008, 1009, 1010, 1011, 1012, 1013, 1014, 1015, 1016, 1017, 1018, 1020, 1021, 1022, 1023, 1024, 1025, 1026, 1027, 1028, 1029, 1030, 1031, 1032, 1033, 1034, 1035, 1036, 1038, 1039, 1040, 1041, 1042, 1043, 1044, 1045, 1046, 1047, 1048, 1049, 1050, 1051, 1052, 1053, 1054, 1055, 1056, 1058, 1059, 1060, 1061, 1062, 1063, 1064, 1065, 1066, 1067, 1068, 1069, 1070, 1071, 1072, 1073, 1074, 1075, 1076, 1077, 1078, 1079, 1080, 1081, 1082, 1083, 1084, 1085, 1086, 1087, 1088, 1090, 1091, 1092, 1093, 1094, 1095, 1096, 1099, 1100, 1101, 1102, 1103, 1104, 1105, 1106, 1107, 1108, 1109, 1110, 1111, 1112, 1113, 1114, 1115, 1116, 1117, 1118, 1119, 1120, 1121, 1122, 1124, 1125, 1126, 1127, 1128, 1129, 1130, 1131, 1132, 1133, 1134, 1135, 1136, 1137, 1138, 1140, 1141, 1142, 1144, 1145, 1146, 1147, 1148, 1149, 1151, 1153, 1154, 1155, 1156, 1157, 1158, 1159, 1160, 1162, 1163, 1164, 1165, 1166, 1167, 1169, 1170, 1171, 1172, 1173, 1174, 1175, 1176, 1177, 1178, 1179, 1180, 1181, 1182, 1183, 1184, 1185, 1186, 1188, 1189, 1190, 1191, 1192, 1193, 1194, 1195, 1196, 1197, 1198, 1199, 1200, 1201, 1202, 1203, 1204, 1206, 1207, 1208, 1209, 1210, 1211, 1212, 1213, 1214, 1215, 1216, 1217, 1218, 1219, 1220, 1221, 1222, 1223, 1224, 1225, 1226, 1227, 1228, 1229, 1230, 1231, 1232, 1233, 1234, 1235, 1236, 1237, 1238, 1239, 1240, 1241, 1242, 1243, 1244, 1245, 1246, 1247, 1248, 1249, 1250, 1251, 1253, 1254, 1255, 1256, 1257, 1258, 1260, 1261, 1262, 1263, 1264, 1265, 1266, 1267, 1268, 1269, 1270, 1271, 1272, 1273, 1274, 1275, 1276, 1277, 1278, 1279, 1280, 1281, 1282, 1283, 1284, 1285, 1286, 1287, 1288, 1289, 1290, 1291, 1292, 1293, 1294, 1295, 1296, 1297, 1298, 1299, 1300, 1301, 1302, 1303, 1304, 1305, 1306, 1307, 1308, 1309, 1310, 1311, 1312, 1313, 1314, 1315, 1316, 1318, 1319, 1320, 1321, 1322, 1323, 1324, 1325, 1326, 1327, 1328, 1329, 1330, 1331, 1332, 1333, 1334, 1335, 1336, 1337, 1338, 1339, 1340, 1341, 1342, 1343, 1344, 1345, 1346, 1347, 1348, 1349, 1350, 1351, 1352, 1353, 1354, 1355, 1356, 1357, 1358, 1359, 1360, 1361, 1362, 1363, 1365, 1367, 1368, 1369, 1370, 1372, 1373, 1374, 1375, 1377, 1378, 1379, 1380, 1381, 1382, 1383, 1384, 1385, 1386, 1387, 1388, 1389, 1390, 1391, 1392, 1393, 1394, 1395, 1396, 1397, 1398, 1399, 1400, 1401, 1402, 1403, 1404, 1405, 1406, 1407, 1408, 1409, 1410, 1411, 1412, 1413, 1414, 1415, 1416, 1417, 1418, 1419, 1420, 1421, 1422, 1423, 1424, 1425, 1426, 1427, 1428, 1429, 1430, 1431, 1432, 1433, 1434, 1435, 1436, 1437, 1438, 1439, 1440, 1441, 1442, 1443, 1444, 1445, 1446, 1447, 1448, 1449, 1450, 1451, 1452, 1453, 1454, 1455, 1456, 1457, 1458, 1459, 1460, 1461, 1462, 1463, 1465, 1466, 1467, 1468, 1469, 1470, 1471, 1472, 1473, 1474, 1475, 1476, 1477, 1478, 1479, 1480, 1481, 1482, 1483, 1484, 1485, 1486, 1488, 1489, 1490, 1491, 1492, 1493, 1494, 1495, 1496, 1497, 1498, 1499, 1501, 1502, 1503, 1504, 1505, 1506, 1507, 1508, 1509, 1510, 1511, 1512, 1513, 1514, 1515, 1516, 1517, 1518, 1519, 1520, 1521, 1522, 1523, 1524, 1525, 1526, 1527, 1528, 1529, 1530, 1531, 1533, 1534, 1535, 1536, 1537, 1538, 1539, 1540, 1541, 1542, 1543, 1544, 1545, 1546, 1547, 1548, 1549, 1550, 1551, 1552, 1553, 1555, 1556, 1557, 1558, 1560, 1561, 1562, 1563, 1564, 1565, 1566, 1567, 1568, 1569, 1570, 1571, 1572, 1573, 1574, 1575, 1577, 1578, 1579, 1580, 1581, 1582, 1583, 1584, 1585, 1586, 1587, 1588, 1589, 1590, 1591, 1592, 1593, 1594, 1595, 1596, 1597, 1598, 1599, 1600, 1601, 1602, 1603, 1604, 1605, 1606, 1607, 1608, 1609, 1610, 1611, 1612, 1613, 1614, 1615, 1616, 1617, 1618, 1619, 1620, 1621, 1622, 1623, 1624, 1625, 1626, 1627, 1628, 1630, 1631, 1632, 1633, 1634, 1635, 1636, 1637, 1638, 1639, 1641, 1642, 1643, 1644, 1645, 1646, 1648, 1649, 1650, 1651, 1652, 1653, 1654, 1655, 1657, 1658, 1659, 1660, 1661, 1662, 1663, 1664, 1665, 1666, 1667, 1668, 1669, 1670, 1671, 1672, 1673, 1674, 1675, 1676, 1677, 1678, 1679, 1680, 1681, 1682, 1683, 1684, 1685, 1686, 1687, 1688, 1689, 1690, 1691, 1692, 1693, 1694, 1695, 1696, 1697, 1698, 1699, 1700, 1701, 1702, 1703, 1704, 1705, 1706, 1707, 1708, 1709, 1711, 1712, 1713, 1714, 1715, 1716, 1717, 1718, 1719, 1720, 1721, 1722, 1723, 1724, 1726, 1727, 1728, 1729, 1730, 1731, 1732, 1733, 1734, 1735, 1736, 1737, 1738, 1739, 1741, 1742, 1743, 1744, 1746, 1748, 1749, 1750, 1751, 1752, 1753, 1754, 1755, 1756, 1757, 1758, 1759, 1760, 1761, 1762, 1763, 1764, 1765, 1766, 1767, 1768, 1769, 1770, 1773, 1775, 1776, 1777, 1778, 1779, 1780, 1781, 1782, 1783, 1784, 1785, 1786, 1787, 1788, 1789, 1790, 1791, 1792, 1793, 1794, 1795, 1796, 1797, 1798, 1799, 1800, 1801, 1802, 1803, 1804, 1805, 1806, 1807, 1808, 1809, 1810, 1811, 1812, 1813, 1815, 1816, 1817, 1818, 1820, 1821, 1823, 1824, 1825, 1826, 1827, 1828, 1829, 1830, 1831, 1832, 1833, 1834, 1835, 1836, 1837, 1838, 1839, 1840, 1841, 1843, 1844, 1845, 1846, 1847, 1848, 1849, 1850, 1851, 1852, 1853, 1854, 1855, 1856, 1857, 1858, 1859, 1860, 1861, 1862, 1863, 1864, 1865, 1866, 1867, 1868, 1869, 1870, 1871, 1872, 1873, 1874, 1875, 1876, 1878, 1879, 1880, 1881, 1882, 1884, 1885, 1886, 1887, 1888, 1889, 1890, 1891, 1892, 1893, 1894, 1895, 1896, 1897, 1898, 1899, 1900, 1901, 1902, 1903, 1904, 1905, 1906, 1907, 1908, 1909, 1910, 1911, 1912, 1913, 1914, 1915, 1916, 1917, 1918, 1919, 1920, 1921, 1922, 1923, 1924, 1925, 1926, 1927, 1928, 1929, 1930, 1931, 1932, 1933, 1934, 1935, 1936, 1937, 1938, 1940, 1941, 1942, 1943, 1944, 1945, 1946, 1947, 1948, 1949, 1950, 1951, 1952, 1953, 1954, 1955, 1956, 1957, 1958, 1959, 1960, 1961, 1962, 1963, 1964, 1965, 1966, 1967, 1968, 1969, 1970, 1971, 1972, 1974, 1975, 1976, 1977, 1978, 1979, 1981, 1982, 1983, 1984, 1985, 1986, 1987, 1988, 1989, 1990, 1991, 1992, 1993, 1994, 1995, 1996, 1997, 1998, 1999]\n"
          ],
          "name": "stdout"
        }
      ]
    },
    {
      "metadata": {
        "id": "4kmcr8HhHFSe",
        "colab_type": "code",
        "colab": {}
      },
      "cell_type": "code",
      "source": [
        "def calculate_entropy(y_train):\n",
        "  #To calculate the entrop of full dataset\n",
        "  global class_entropy\n",
        "  class_entropy=0\n",
        "  count=0\n",
        "  class_values=y_train.unique()        #to find pre-defined classes in target column i.e unique flowers in the column in our case\n",
        "  #print(class_values)\n",
        "  for i in class_values:\n",
        "      count=list(y_train).count(i)     #count the number of unique flowers in our case \n",
        "      probability_flowers=count/len(y_train)\n",
        "      class_entropy=class_entropy-(probability_flowers*math.log(probability_flowers,2))  #count the entropy of target variable\n",
        "  class_entropy=round(class_entropy,4)\n",
        "  #print((class_entropy))\n",
        "  return(class_entropy)\n",
        "#calculate_entropy(y_train)"
      ],
      "execution_count": 0,
      "outputs": []
    },
    {
      "metadata": {
        "id": "HeAwyGlZHhqe",
        "colab_type": "code",
        "colab": {}
      },
      "cell_type": "code",
      "source": [
        "import math\n",
        "import numpy as np\n",
        "def calculate_entropy_attributes(r,y_train):\n",
        "  attributes=r                                            #values of the column are stored in the attributes\n",
        "  a=0\n",
        "  probability_each=0\n",
        "  class_values=y_train.unique()                           #find the unique values of target variable\n",
        "  #for i in x_train:\n",
        "    #attributes=list(x_train[i])\n",
        "    \n",
        "   #To find unique values from the attributes list which has details of that particular column\n",
        "  attri_unique=[]\n",
        "  for z in attributes:\n",
        "      if z not in attri_unique:\n",
        "          attri_unique.append(z)\n",
        "      #print(attri_unique)\n",
        "      \n",
        "  #To count the number of count of each unique attributes for each class in target variable\n",
        "  entropy=0\n",
        "  for b in attri_unique:\n",
        "      count=0\n",
        "      probability=0\n",
        "      for a in range(len(attributes)):\n",
        "         if(attributes[a]==b):\n",
        "          count=count+1\n",
        "        #print(b,\"is \",count)\n",
        "         probability=count/len(attributes)\n",
        "        #for x in attri_unique:\n",
        "        \n",
        "  #To count the values those unique values for each class\n",
        "      for z in class_values:\n",
        "            count2=0\n",
        "            for j in range(len(attributes)):\n",
        " \n",
        "                if attributes[j]==b and y_train[j]==z:\n",
        "                    count2=count2+1\n",
        "            #print(z,\",\",b,\",\",count2)\n",
        "         \n",
        "   #To calculate entropy for the given attribute\n",
        "            if(count2==0):\n",
        "              probability_each=0\n",
        "            else:\n",
        "              a=count2/count\n",
        "              c=math.log(a,2)\n",
        "              probability_each=-a*c\n",
        "              #print(probability)\n",
        "            entropy=round(entropy+probability*probability_each,4)\n",
        "  #print(entropy)\n",
        "  return(abs(entropy))\n",
        "      \n",
        "#calculate_entropy_attributes(x_train,y_train)\n",
        "              "
      ],
      "execution_count": 0,
      "outputs": []
    },
    {
      "metadata": {
        "id": "mLnYRYGlH4F-",
        "colab_type": "code",
        "colab": {}
      },
      "cell_type": "code",
      "source": [
        "import numpy as p\n",
        "def calculate_informationgain(x_train,y_train):\n",
        "  Information_Gain=[]\n",
        "  for i in x_train:                                    #This loop is used to scan and work on each column one by one\n",
        "    r=list(x_train[i])                                 #values of that particular attributes are stored in a list \n",
        "    a=calculate_entropy(y_train)                       #To calculate class entropy calculate_entropy will be called\n",
        "    b=calculate_entropy_attributes(r,y_train)          #To calculate entropy of that attribute calculate_entropy_attributes will be called\n",
        "    c=a-b\n",
        "    Information_Gain.append(c)\n",
        "  #print(Information_Gain)     \n",
        "  \n",
        "  #To stop the code at some point.At some point Information_Gain will have no value and because of which max value cannot be predicted\n",
        "  \n",
        "  while(len(Information_Gain)!=0):\n",
        "     #if len(Information_Gain)!=0:  \n",
        "        d=x_train.keys()[p.argmax(Information_Gain)] #argmax finds the index of the highest values and will return attribute name with that index\n",
        "        return(d)\n",
        "    \n",
        "   \n",
        "  #calculate_informationgain(x_train,y_train)\n",
        "  "
      ],
      "execution_count": 0,
      "outputs": []
    },
    {
      "metadata": {
        "id": "HzV3_Oa5JKx9",
        "colab_type": "code",
        "colab": {}
      },
      "cell_type": "code",
      "source": [
        "def string_partition(attributes,node,y_train,x_train,length,train):\n",
        "    class1=y_train.unique()\n",
        "  #for w in attributes:\n",
        "   # print(w)\n",
        "    train1=pd.DataFrame()\n",
        "    for i in train:\n",
        "      variables=train[i]\n",
        "      if i!=node:                 #as we don't want the node found in our new dataset this condition will restrict this condition\n",
        "          l=[]\n",
        "          for z in class1:\n",
        "            for j in range(length):\n",
        "              if(x_train[node][j]==attributes and y_train[j]==z):\n",
        "  \n",
        "                  l.append(variables[j])\n",
        "          train1[i]=l\n",
        "   \n",
        "    return(train1)\n",
        "    \n"
      ],
      "execution_count": 0,
      "outputs": []
    },
    {
      "metadata": {
        "id": "akpgdOGzJdmZ",
        "colab_type": "code",
        "colab": {}
      },
      "cell_type": "code",
      "source": [
        "import pandas as pd\n",
        "def construct_tree(train,length):\n",
        "  tree=None\n",
        "  #print(train)\n",
        "  x_train=train.copy()\n",
        "  x_train.drop([target], axis = 1, inplace = True)\n",
        "  y_train=train[target]\n",
        "  #print(training.keys())\n",
        "  node=calculate_informationgain(x_train,y_train)\n",
        "  #print(node)\n",
        "  while node:\n",
        "    value=list(train[node].unique())         #to find unique values from the node found\n",
        "   # print(value)\n",
        "    if tree is None:\n",
        "      tree={}\n",
        "      tree[node]={}\n",
        "    for attributes in value:\n",
        "          #print(\"attributes is\",attributes)\n",
        "          newset=string_partition(attributes,node,y_train,x_train,length,train)              #To create new dataset once node is predicted\n",
        "          #print(\"newset is\",newset.keys())\n",
        "          #newset=string(train,node,attributes)\n",
        "          #print(newset)\n",
        "          newvalue=np.unique(newset[target])                                       \n",
        "          if len(newset.keys())==1 and len(newvalue)>1 and len(value)>=1:\n",
        "            #print(\"hello\")\n",
        "            choose=[]\n",
        "            for i in range(len(newvalue)):\n",
        "              choose.append(newvalue[i])\n",
        "            tree[node][attributes]=choose\n",
        "            #print(\"newvalue is\",newvalue[i])\n",
        "          elif len(newvalue)==1:\n",
        "            tree[node][attributes]=newvalue[0]\n",
        "          else:\n",
        "              tree[node][attributes]=construct_tree(newset,len(newset))\n",
        "\n",
        "    return(tree)\n",
        "\n",
        "\n",
        "  \n",
        "  "
      ],
      "execution_count": 0,
      "outputs": []
    },
    {
      "metadata": {
        "id": "r6Vg-16Ckct8",
        "colab_type": "code",
        "colab": {}
      },
      "cell_type": "code",
      "source": [
        "tree=construct_tree(train,len(train))"
      ],
      "execution_count": 0,
      "outputs": []
    },
    {
      "metadata": {
        "id": "vMryFGxBfWj5",
        "colab_type": "code",
        "outputId": "78099da1-9d2d-4650-9d4d-a6de79c801b1",
        "colab": {
          "base_uri": "https://localhost:8080/",
          "height": 225
        }
      },
      "cell_type": "code",
      "source": [
        "import pprint\n",
        "pprint.pprint(tree)\n",
        "#tree"
      ],
      "execution_count": 0,
      "outputs": [
        {
          "output_type": "stream",
          "text": [
            "{'Soil_type': {'Dry': 'Cactus',\n",
            "               'Loamy': {'PH': {'<6': 'Rose',\n",
            "                                '>6': {'Temperature': {'<20': {'Soil_moisture': {'>38': ['Hibiscus',\n",
            "                                                                                         'Rose']}},\n",
            "                                                       '>20': {'Soil_moisture': {'>38': ['Hibiscus',\n",
            "                                                                                         'Rose']}}}}}},\n",
            "               'Sandy Loamy': {'Soil_moisture': {'<38': 'Lilies',\n",
            "                                                 '>38': {'PH': {'<6': 'Lilies',\n",
            "                                                                '>6': {'Temperature': {'<20': ['Hibiscus',\n",
            "                                                                                               'Lilies'],\n",
            "                                                                                       '>20': ['Hibiscus',\n",
            "                                                                                               'Lilies']}}}}}}}}\n"
          ],
          "name": "stdout"
        }
      ]
    },
    {
      "metadata": {
        "id": "xh9TEXYcvYGl",
        "colab_type": "text"
      },
      "cell_type": "markdown",
      "source": [
        "4.Prediction"
      ]
    },
    {
      "metadata": {
        "id": "YSdf2v4rbjf1",
        "colab_type": "code",
        "colab": {}
      },
      "cell_type": "code",
      "source": [
        "def predict(x,tree):\n",
        "    for nodes in tree.keys():\n",
        "        value = x[nodes]\n",
        "        tree = tree[nodes][value]\n",
        "        prediction = 0\n",
        "            \n",
        "        if type(tree) is dict:\n",
        "            prediction = predict(x, tree)\n",
        "        else:\n",
        "            prediction = tree\n",
        "            #break;                                \n",
        "    return prediction"
      ],
      "execution_count": 0,
      "outputs": []
    },
    {
      "metadata": {
        "id": "34RcRJ-Dbsqm",
        "colab_type": "code",
        "outputId": "f82855a3-6d37-420d-fe46-a859e34fd08d",
        "colab": {
          "base_uri": "https://localhost:8080/",
          "height": 54
        }
      },
      "cell_type": "code",
      "source": [
        "final_prediction=[]\n",
        "import random\n",
        "for i in range(len(x_test)):\n",
        "  x=x_test.iloc[i]\n",
        "  prediction=predict(x,tree)\n",
        "  if type(prediction) is list:\n",
        "    a=len(prediction)\n",
        "    b=random.randint(0,len(prediction)-1)\n",
        "    prediction=prediction[b]\n",
        "  final_prediction.append(prediction)\n",
        "print(final_prediction)"
      ],
      "execution_count": 0,
      "outputs": [
        {
          "output_type": "stream",
          "text": [
            "['Cactus', 'Cactus', 'Rose', 'Hibiscus', 'Rose', 'Lilies', 'Rose', 'Lilies', 'Hibiscus', 'Hibiscus', 'Rose', 'Rose', 'Hibiscus', 'Rose', 'Lilies', 'Cactus', 'Rose', 'Lilies', 'Lilies', 'Cactus', 'Hibiscus', 'Hibiscus', 'Hibiscus', 'Hibiscus', 'Hibiscus', 'Lilies', 'Hibiscus', 'Rose', 'Lilies', 'Cactus', 'Hibiscus', 'Cactus', 'Cactus', 'Rose', 'Cactus', 'Lilies', 'Cactus', 'Rose', 'Lilies', 'Lilies', 'Rose', 'Cactus', 'Lilies', 'Lilies', 'Hibiscus', 'Rose', 'Rose', 'Cactus', 'Rose', 'Cactus', 'Rose', 'Hibiscus', 'Lilies', 'Hibiscus', 'Rose', 'Cactus', 'Lilies', 'Hibiscus', 'Rose', 'Lilies', 'Hibiscus', 'Cactus', 'Cactus', 'Rose', 'Cactus', 'Hibiscus', 'Cactus', 'Hibiscus', 'Hibiscus', 'Rose', 'Lilies', 'Cactus', 'Lilies', 'Cactus', 'Hibiscus', 'Hibiscus', 'Rose', 'Lilies', 'Hibiscus', 'Lilies', 'Rose', 'Cactus', 'Rose', 'Lilies', 'Rose', 'Lilies', 'Hibiscus', 'Lilies', 'Lilies', 'Rose', 'Hibiscus', 'Cactus', 'Hibiscus', 'Rose', 'Hibiscus', 'Cactus', 'Cactus', 'Rose', 'Cactus', 'Rose']\n"
          ],
          "name": "stdout"
        }
      ]
    },
    {
      "metadata": {
        "id": "IH_-ns_Ovgc_",
        "colab_type": "text"
      },
      "cell_type": "markdown",
      "source": [
        "5.Accurancy of our model"
      ]
    },
    {
      "metadata": {
        "id": "noHlW73Hdt8D",
        "colab_type": "code",
        "outputId": "e32078f5-9cb5-429e-a7fb-f9dbe799cbd2",
        "colab": {
          "base_uri": "https://localhost:8080/",
          "height": 34
        }
      },
      "cell_type": "code",
      "source": [
        "count=0\n",
        "for i in range(len(y_test)):\n",
        "  if y_test[i]==final_prediction[i]:\n",
        "    count=count+1\n",
        "print(count)"
      ],
      "execution_count": 0,
      "outputs": [
        {
          "output_type": "stream",
          "text": [
            "80\n"
          ],
          "name": "stdout"
        }
      ]
    }
  ]
}