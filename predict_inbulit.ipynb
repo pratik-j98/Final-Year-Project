{
  "nbformat": 4,
  "nbformat_minor": 0,
  "metadata": {
    "colab": {
      "name": "predict_inbulit.ipynb",
      "version": "0.3.2",
      "provenance": [],
      "include_colab_link": true
    },
    "kernelspec": {
      "name": "python3",
      "display_name": "Python 3"
    }
  },
  "cells": [
    {
      "cell_type": "markdown",
      "metadata": {
        "id": "view-in-github",
        "colab_type": "text"
      },
      "source": [
        "<a href=\"https://colab.research.google.com/github/pratik-j98/Final-Year-Project/blob/master/predict_inbulit.ipynb\" target=\"_parent\"><img src=\"https://colab.research.google.com/assets/colab-badge.svg\" alt=\"Open In Colab\"/></a>"
      ]
    },
    {
      "metadata": {
        "id": "CjE-0_c4MNdN",
        "colab_type": "text"
      },
      "cell_type": "markdown",
      "source": [
        "1.Importing libraries and packages\n",
        "\n",
        "Pandas is one of the python libraries which is used for manipulating dataframes and colums. we will be using pandas to read the dataset which is in ths csv format and store it in one variable.\n"
      ]
    },
    {
      "metadata": {
        "id": "6QZCeIXblsDk",
        "colab_type": "code",
        "colab": {}
      },
      "cell_type": "code",
      "source": [
        "import pandas as pd"
      ],
      "execution_count": 0,
      "outputs": []
    },
    {
      "metadata": {
        "id": "CmtZvjfhMSmB",
        "colab_type": "text"
      },
      "cell_type": "markdown",
      "source": [
        "2.Loading the dataset\n",
        "\n",
        "Using pandas we load the training and the testing dataset.\n"
      ]
    },
    {
      "metadata": {
        "id": "3jJKHPAJLtWU",
        "colab_type": "code",
        "colab": {}
      },
      "cell_type": "code",
      "source": [
        "dataset_pathtrain='https://raw.githubusercontent.com/Tina118/flower-prediction/master/soildatasettrain.csv'\n",
        "training=pd.read_csv(dataset_pathtrain)"
      ],
      "execution_count": 0,
      "outputs": []
    },
    {
      "metadata": {
        "id": "XAlMXJtfMc9L",
        "colab_type": "text"
      },
      "cell_type": "markdown",
      "source": [
        "\n",
        "   3.Feature Engineering\n",
        "\n",
        "Because values in the Flowers ,Soil_type columns are categorical values, we have to represent these strings as numerical values in order to perform our classification with our model. We change Flowers category as 0,1,2,3. We do the same for Soil_type category and Fertilizer category. We do this same process on both the training and testing set to prepare our data for further processing.\n"
      ]
    },
    {
      "metadata": {
        "id": "YSQMIOuXmKfb",
        "colab_type": "code",
        "colab": {}
      },
      "cell_type": "code",
      "source": [
        "training.loc[training[\"Flowers\"]==\"Rose\" , \"Flowers\"]=0\n",
        "training.loc[training[\"Flowers\"]==\"Lilies\" , \"Flowers\"]=1\n",
        "training.loc[training[\"Flowers\"]==\"Cactus\" , \"Flowers\"]=2\n",
        "training.loc[training[\"Flowers\"]==\"Hibiscus\" , \"Flowers\"]=3\n",
        "\n",
        "training.loc[training[\"Soil_type\"]==\"Loamy\" , \"Soil_type\"]=0\n",
        "training.loc[training[\"Soil_type\"]==\"Sandy Loamy\",\"Soil_type\"]=1\n",
        "training.loc[training[\"Soil_type\"]==\"Dry\" , \"Soil_type\"]=2\n"
      ],
      "execution_count": 0,
      "outputs": []
    },
    {
      "metadata": {
        "id": "XWgLSR3SMi0J",
        "colab_type": "text"
      },
      "cell_type": "markdown",
      "source": [
        "4.Model Fitting and Predicting\n",
        "\n",
        "Now we have processed the data properly and understood the general working of the dataset.And now we can start building our model.We will import the classifiers from sklearn and see the accuracy and the prediction of our model\n"
      ]
    },
    {
      "metadata": {
        "id": "vsKQvG23mTiO",
        "colab_type": "code",
        "colab": {}
      },
      "cell_type": "code",
      "source": [
        "\n",
        "from sklearn.ensemble import RandomForestClassifier\n",
        "from sklearn.linear_model import LogisticRegression\n",
        "from sklearn.tree import DecisionTreeClassifier\n",
        "from sklearn.neighbors import KNeighborsClassifier\n",
        "from sklearn.svm import SVC\n",
        "from sklearn.naive_bayes import GaussianNB"
      ],
      "execution_count": 0,
      "outputs": []
    },
    {
      "metadata": {
        "id": "zQv39RDuMnZ-",
        "colab_type": "text"
      },
      "cell_type": "markdown",
      "source": [
        "Defining features in training and testing the dataset"
      ]
    },
    {
      "metadata": {
        "id": "YuRZtTeQmY5O",
        "colab_type": "code",
        "colab": {}
      },
      "cell_type": "code",
      "source": [
        "x=training.copy()\n",
        "x.drop(['Flowers'], axis = 1, inplace = True)\n",
        "y=training.Flowers\n"
      ],
      "execution_count": 0,
      "outputs": []
    },
    {
      "metadata": {
        "id": "n8bDpFAPcFU7",
        "colab_type": "code",
        "colab": {}
      },
      "cell_type": "code",
      "source": [
        "from sklearn.model_selection import train_test_split\n",
        "X_train,X_test,Y_train,Y_test = train_test_split(x,y,test_size=0.20,random_state=1)"
      ],
      "execution_count": 0,
      "outputs": []
    },
    {
      "metadata": {
        "id": "JX2cjz3nNOvA",
        "colab_type": "text"
      },
      "cell_type": "markdown",
      "source": [
        "RANDOM FOREST CLASSIFIER MODEL"
      ]
    },
    {
      "metadata": {
        "id": "CbG69bWMmbwv",
        "colab_type": "code",
        "outputId": "3cd2ef5b-9df1-4d02-a6d9-31c6564a8089",
        "colab": {
          "base_uri": "https://localhost:8080/",
          "height": 69
        }
      },
      "cell_type": "code",
      "source": [
        "rf_clf = RandomForestClassifier()\n",
        "rf_clf.fit(X_train, Y_train)\n",
        "pred_rf = rf_clf.predict(X_test)\n",
        "#print(pred_rf)\n",
        "from sklearn.metrics import accuracy_score\n",
        "accuracy_score(Y_test,pred_rf)\n",
        "\n"
      ],
      "execution_count": 0,
      "outputs": [
        {
          "output_type": "stream",
          "text": [
            "/usr/local/lib/python3.6/dist-packages/sklearn/ensemble/forest.py:246: FutureWarning: The default value of n_estimators will change from 10 in version 0.20 to 100 in 0.22.\n",
            "  \"10 in version 0.20 to 100 in 0.22.\", FutureWarning)\n"
          ],
          "name": "stderr"
        },
        {
          "output_type": "execute_result",
          "data": {
            "text/plain": [
              "0.9575"
            ]
          },
          "metadata": {
            "tags": []
          },
          "execution_count": 9
        }
      ]
    },
    {
      "metadata": {
        "id": "kZmxXTqiNKVI",
        "colab_type": "text"
      },
      "cell_type": "markdown",
      "source": [
        "LOGISTIC REGRESSION MODEL"
      ]
    },
    {
      "metadata": {
        "id": "hFDzLRkLmele",
        "colab_type": "code",
        "outputId": "c6d693dc-519c-4f0f-f0be-9a12a524704d",
        "colab": {
          "base_uri": "https://localhost:8080/",
          "height": 124
        }
      },
      "cell_type": "code",
      "source": [
        "logreg_clf = LogisticRegression()\n",
        "logreg_clf.fit(X_train, Y_train)\n",
        "pred_logreg = logreg_clf.predict(X_test)\n",
        "#print(pred_logreg)\n",
        "from sklearn.metrics import accuracy_score\n",
        "accuracy_score(Y_test,pred_logreg)\n",
        "\n",
        "\n"
      ],
      "execution_count": 0,
      "outputs": [
        {
          "output_type": "stream",
          "text": [
            "/usr/local/lib/python3.6/dist-packages/sklearn/linear_model/logistic.py:433: FutureWarning: Default solver will be changed to 'lbfgs' in 0.22. Specify a solver to silence this warning.\n",
            "  FutureWarning)\n",
            "/usr/local/lib/python3.6/dist-packages/sklearn/linear_model/logistic.py:460: FutureWarning: Default multi_class will be changed to 'auto' in 0.22. Specify the multi_class option to silence this warning.\n",
            "  \"this warning.\", FutureWarning)\n"
          ],
          "name": "stderr"
        },
        {
          "output_type": "execute_result",
          "data": {
            "text/plain": [
              "0.8575"
            ]
          },
          "metadata": {
            "tags": []
          },
          "execution_count": 10
        }
      ]
    },
    {
      "metadata": {
        "id": "u-vPiU1QNGTF",
        "colab_type": "text"
      },
      "cell_type": "markdown",
      "source": [
        "DECISION TREE WITH GINI INDEX"
      ]
    },
    {
      "metadata": {
        "id": "hnc3P_pJmiFc",
        "colab_type": "code",
        "outputId": "8f378b0b-ea19-4f22-9f50-68e77894f589",
        "colab": {
          "base_uri": "https://localhost:8080/",
          "height": 34
        }
      },
      "cell_type": "code",
      "source": [
        "dt_clf = DecisionTreeClassifier(criterion='gini')\n",
        "dt_clf.fit(X_train, Y_train)\n",
        "pred_dt = dt_clf.predict(X_test)\n",
        "#print(pred_dt)\n",
        "from sklearn.metrics import accuracy_score\n",
        "accuracy_score(Y_test,pred_dt)\n",
        "\n",
        "\n",
        "\n"
      ],
      "execution_count": 0,
      "outputs": [
        {
          "output_type": "execute_result",
          "data": {
            "text/plain": [
              "0.9625"
            ]
          },
          "metadata": {
            "tags": []
          },
          "execution_count": 11
        }
      ]
    },
    {
      "metadata": {
        "id": "UYUXbZyCNBgG",
        "colab_type": "text"
      },
      "cell_type": "markdown",
      "source": [
        "DECISION TREE WITH ENTROPY"
      ]
    },
    {
      "metadata": {
        "id": "iz-nyZaLmmLA",
        "colab_type": "code",
        "outputId": "86270cf9-6961-40e4-804a-9ee854fa4779",
        "colab": {
          "base_uri": "https://localhost:8080/",
          "height": 34
        }
      },
      "cell_type": "code",
      "source": [
        "dt_clf = DecisionTreeClassifier(criterion='entropy')\n",
        "dt_clf.fit(X_train, Y_train)\n",
        "pred_dt = dt_clf.predict(X_test)\n",
        "#print(pred_dt)\n",
        "from sklearn.metrics import accuracy_score\n",
        "accuracy_score(Y_test,pred_dt)\n",
        "\n",
        "\n",
        "\n"
      ],
      "execution_count": 0,
      "outputs": [
        {
          "output_type": "execute_result",
          "data": {
            "text/plain": [
              "0.965"
            ]
          },
          "metadata": {
            "tags": []
          },
          "execution_count": 12
        }
      ]
    },
    {
      "metadata": {
        "id": "6WfetQzVM9Le",
        "colab_type": "text"
      },
      "cell_type": "markdown",
      "source": [
        "K NEAREST NEIGHBOUR MODEL "
      ]
    },
    {
      "metadata": {
        "id": "5ga-qx5E1YNQ",
        "colab_type": "code",
        "outputId": "279b43f2-0f5c-432d-d617-9f51fc224b74",
        "colab": {
          "base_uri": "https://localhost:8080/",
          "height": 34
        }
      },
      "cell_type": "code",
      "source": [
        "knn_clf = KNeighborsClassifier()\n",
        "knn_clf.fit(X_train, Y_train)\n",
        "pred_knn = knn_clf.predict(X_test)\n",
        "#print(pred_knn)\n",
        "from sklearn.metrics import accuracy_score\n",
        "accuracy_score(Y_test,pred_knn)\n"
      ],
      "execution_count": 0,
      "outputs": [
        {
          "output_type": "execute_result",
          "data": {
            "text/plain": [
              "0.9575"
            ]
          },
          "metadata": {
            "tags": []
          },
          "execution_count": 12
        }
      ]
    },
    {
      "metadata": {
        "id": "Ydg3o5wYMu9t",
        "colab_type": "text"
      },
      "cell_type": "markdown",
      "source": [
        "SVC MODEL"
      ]
    },
    {
      "metadata": {
        "id": "yWZ-vvp64LMe",
        "colab_type": "code",
        "outputId": "bd52dc76-3221-48d4-acc8-5b21cdc2b50c",
        "colab": {
          "base_uri": "https://localhost:8080/",
          "height": 89
        }
      },
      "cell_type": "code",
      "source": [
        "svc_clf = SVC() \n",
        "svc_clf.fit(X_train, Y_train)\n",
        "pred_svc = svc_clf.predict(X_test)\n",
        "#print(pred_svc)\n",
        "from sklearn.metrics import accuracy_score\n",
        "accuracy_score(Y_test,pred_svc)\n"
      ],
      "execution_count": 0,
      "outputs": [
        {
          "output_type": "stream",
          "text": [
            "/usr/local/lib/python3.6/dist-packages/sklearn/svm/base.py:196: FutureWarning: The default value of gamma will change from 'auto' to 'scale' in version 0.22 to account better for unscaled features. Set gamma explicitly to 'auto' or 'scale' to avoid this warning.\n",
            "  \"avoid this warning.\", FutureWarning)\n"
          ],
          "name": "stderr"
        },
        {
          "output_type": "execute_result",
          "data": {
            "text/plain": [
              "0.965"
            ]
          },
          "metadata": {
            "tags": []
          },
          "execution_count": 13
        }
      ]
    },
    {
      "metadata": {
        "id": "VHYB2vSeMwTy",
        "colab_type": "text"
      },
      "cell_type": "markdown",
      "source": [
        "NAIVE BAYES CLASSIFIER MODEL"
      ]
    },
    {
      "metadata": {
        "id": "6q1EYD9Q4e1A",
        "colab_type": "code",
        "outputId": "7accab13-890a-4e90-8be6-2ecc548fae4d",
        "colab": {
          "base_uri": "https://localhost:8080/",
          "height": 34
        }
      },
      "cell_type": "code",
      "source": [
        "gnb_clf = GaussianNB()\n",
        "gnb_clf.fit(X_train, Y_train)\n",
        "pred_gnb = gnb_clf.predict(X_test)\n",
        "#print(pred_gnb)\n",
        "from sklearn.metrics import accuracy_score\n",
        "accuracy_score(Y_test,pred_gnb)\n"
      ],
      "execution_count": 0,
      "outputs": [
        {
          "output_type": "execute_result",
          "data": {
            "text/plain": [
              "0.88"
            ]
          },
          "metadata": {
            "tags": []
          },
          "execution_count": 15
        }
      ]
    },
    {
      "metadata": {
        "id": "j1adm0j2M1ik",
        "colab_type": "code",
        "colab": {}
      },
      "cell_type": "code",
      "source": [
        ""
      ],
      "execution_count": 0,
      "outputs": []
    }
  ]
}